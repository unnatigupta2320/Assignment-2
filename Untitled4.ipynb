{
  "nbformat": 4,
  "nbformat_minor": 0,
  "metadata": {
    "colab": {
      "name": "Untitled4.ipynb",
      "provenance": [],
      "authorship_tag": "ABX9TyNcZ5/oEk69ssUO7Dk/IQiC"
    },
    "kernelspec": {
      "name": "python3",
      "display_name": "Python 3"
    },
    "language_info": {
      "name": "python"
    }
  },
  "cells": [
    {
      "cell_type": "code",
      "metadata": {
        "colab": {
          "base_uri": "https://localhost:8080/",
          "height": 231
        },
        "id": "IqNbIuBce1hE",
        "outputId": "bb8ce481-0ab0-4392-80e5-d576a6ecd4f9"
      },
      "source": [
        "import numpy as np\n",
        "import matplotlib.pyplot as plt\n",
        "\n",
        "\n",
        "\n",
        "  #Triangle vertices\n",
        "def myVec_tri_vert_MIS(m,i,s):\n",
        "  p = (s**2 + i**2-m**2 )/(2*s)\n",
        "  q = np.sqrt(i**2-p**2)\n",
        "  S = np.array([p,q]) \n",
        "  M = np.array([0,0]) \n",
        "  I = np.array([s,0])\n",
        "  return  M,I,S\n",
        "\n",
        " #Coordinates of T\n",
        "def getTcoordinates(s1,m1,t):\n",
        "  k = (s1**2 + t**2 - m1**2 )/(2*s1)\n",
        "  l = np.sqrt(t**2-k**2)\n",
        "  T = np.array([k,l]) \n",
        "  return T\n",
        "\n",
        "#Quadrilateral vertices\n",
        "M,I,S=myVec_tri_vert_MIS(6.5,8.14,3.5)\n",
        "T=getTcoordinates(9.35,3.92,8.14)\n",
        "\n",
        "#Generating all lines\n",
        "x_MI = line_gen(M,I)\n",
        "x_IS = line_gen(I,S)\n",
        "x_ST = line_gen(S,T)\n",
        "x_TI = line_gen(T,I)\n",
        "\n",
        "#Plotting all lines\n",
        "plt.plot(x_MI[0,:],x_MI[1,:],label='$MI$')\n",
        "plt.plot(x_IS[0,:],x_IS[1,:],label='$IS$')\n",
        "plt.plot(x_ST[0,:],x_IS[1,:],label='$ST$')\n",
        "plt.plot(x_TI[0,:],x_IS[1,:],label='$TI$')\n",
        "\n",
        "plt.plot(M[0], M[1], 'o')\n",
        "plt.text(M[0] * (1 + 0.1), M[1] * (1 - 0.1) , 'M')\n",
        "plt.plot(I[0], I[1], 'o')\n",
        "plt.text(I[0] * (1 - 0.2), I[1] * (1 - 0.1) , 'I')\n",
        "plt.plot(S[0], S[1], 'o')\n",
        "plt.text(S[0] * (1 - 0.2), S[1] * (1 - 0.1) , 'S')\n",
        "plt.plot(T[0], T[1], 'o')\n",
        "plt.text(T[0] * (1 - 0.2), T[1] * (1 - 0.1) , 'T')\n",
        "\n",
        "Drawing_C = plt.Circle(( 0 , 0 ), 4,fill=False)\n",
        "axes.add_artist( Drawing_C )\n",
        "plt.plot(4, 0, 'o')\n",
        "plt.text(4 * (1 + 0.04),0.1 , 'E1') \n",
        "plt.plot(0, 4, 'o')\n",
        "plt.text(0.1 ,4.1, 'E2') \n",
        "\n",
        "\n",
        "\n",
        "plt.xlabel('$x$')\n",
        "plt.ylabel('$y$')\n",
        "plt.legend(loc='best')\n",
        "plt.grid() # minor\n",
        "plt.axis('equal')"
      ],
      "execution_count": 6,
      "outputs": [
        {
          "output_type": "error",
          "ename": "NameError",
          "evalue": "ignored",
          "traceback": [
            "\u001b[0;31m---------------------------------------------------------------------------\u001b[0m",
            "\u001b[0;31mNameError\u001b[0m                                 Traceback (most recent call last)",
            "\u001b[0;32m<ipython-input-6-aa9a82ad0974>\u001b[0m in \u001b[0;36m<module>\u001b[0;34m()\u001b[0m\n\u001b[1;32m     25\u001b[0m \u001b[0;34m\u001b[0m\u001b[0m\n\u001b[1;32m     26\u001b[0m \u001b[0;31m#Generating all lines\u001b[0m\u001b[0;34m\u001b[0m\u001b[0;34m\u001b[0m\u001b[0;34m\u001b[0m\u001b[0m\n\u001b[0;32m---> 27\u001b[0;31m \u001b[0mx_MI\u001b[0m \u001b[0;34m=\u001b[0m \u001b[0mline_gen\u001b[0m\u001b[0;34m(\u001b[0m\u001b[0mM\u001b[0m\u001b[0;34m,\u001b[0m\u001b[0mI\u001b[0m\u001b[0;34m)\u001b[0m\u001b[0;34m\u001b[0m\u001b[0;34m\u001b[0m\u001b[0m\n\u001b[0m\u001b[1;32m     28\u001b[0m \u001b[0mx_IS\u001b[0m \u001b[0;34m=\u001b[0m \u001b[0mline_gen\u001b[0m\u001b[0;34m(\u001b[0m\u001b[0mI\u001b[0m\u001b[0;34m,\u001b[0m\u001b[0mS\u001b[0m\u001b[0;34m)\u001b[0m\u001b[0;34m\u001b[0m\u001b[0;34m\u001b[0m\u001b[0m\n\u001b[1;32m     29\u001b[0m \u001b[0mx_ST\u001b[0m \u001b[0;34m=\u001b[0m \u001b[0mline_gen\u001b[0m\u001b[0;34m(\u001b[0m\u001b[0mS\u001b[0m\u001b[0;34m,\u001b[0m\u001b[0mT\u001b[0m\u001b[0;34m)\u001b[0m\u001b[0;34m\u001b[0m\u001b[0;34m\u001b[0m\u001b[0m\n",
            "\u001b[0;31mNameError\u001b[0m: name 'line_gen' is not defined"
          ]
        }
      ]
    }
  ]
}